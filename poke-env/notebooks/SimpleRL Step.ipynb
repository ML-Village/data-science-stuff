{
 "cells": [
  {
   "cell_type": "code",
   "execution_count": 1,
   "id": "41241be2-f39b-4ee1-9ebf-50cea4e18cce",
   "metadata": {},
   "outputs": [],
   "source": [
    "import asyncio"
   ]
  },
  {
   "cell_type": "code",
   "execution_count": 14,
   "id": "8b56c4d9-1a7b-413c-94a6-a3ac5683661b",
   "metadata": {},
   "outputs": [],
   "source": [
    "import numpy as np\n",
    "import torch"
   ]
  },
  {
   "cell_type": "code",
   "execution_count": 8,
   "id": "3f8ea400-12b2-4c5c-bd3c-34731d6aa413",
   "metadata": {},
   "outputs": [],
   "source": [
    "from gym.spaces import Space, Box"
   ]
  },
  {
   "cell_type": "code",
   "execution_count": 2,
   "id": "ed158b42-953d-4778-955c-380c37bf18ec",
   "metadata": {},
   "outputs": [],
   "source": [
    "from poke_env.environment import AbstractBattle\n",
    "from poke_env.player import Player\n",
    "from poke_env.player import Gen8EnvSinglePlayer"
   ]
  },
  {
   "cell_type": "code",
   "execution_count": 16,
   "id": "a7694aca-57e6-4849-9261-cebb51432cc7",
   "metadata": {},
   "outputs": [],
   "source": [
    "battle_format = 'gen8randombattle'\n",
    "device = torch.device(\"cuda\" if torch.cuda.is_available() else \"cpu\")"
   ]
  },
  {
   "cell_type": "code",
   "execution_count": 4,
   "id": "83cb377a-b838-4e17-a8e3-2eb7e8245c61",
   "metadata": {},
   "outputs": [],
   "source": [
    "class MaxDamagePlayer(Player):\n",
    "    \"\"\" Adapted from poke-env documentation.\n",
    "\n",
    "    References:\n",
    "    [1] Creating a simple max damage player.\n",
    "        https://poke-env.readthedocs.io/en/stable/examples/max_damage_player.html\n",
    "    \"\"\"\n",
    "    \n",
    "    def choose_move(self, battle: AbstractBattle):\n",
    "        # If the player can attack, it will\n",
    "        if battle.available_moves:\n",
    "            # Finds the best move among available ones\n",
    "            best_move = max(battle.available_moves, key=lambda move: move.base_power)\n",
    "            return self.create_order(best_move)\n",
    "\n",
    "        # If no attack is available, a random switch will be made\n",
    "        else:\n",
    "            return self.choose_random_move(battle)"
   ]
  },
  {
   "cell_type": "code",
   "execution_count": 9,
   "id": "29fb3e4f-9078-472a-8397-6dd93975e74c",
   "metadata": {},
   "outputs": [],
   "source": [
    "class SimpleRLEnv(Gen8EnvSinglePlayer):\n",
    "    \"\"\" Adapted from poke-env documentation.\n",
    "    \n",
    "    References:\n",
    "    [1] Reinforcement learning with the OpenAI Gym wrapper.\n",
    "        https://poke-env.readthedocs.io/en/stable/examples/rl_with_open_ai_gym_wrapper.html\n",
    "    [2] Type Chart causing a KeyError only containing a type as the error message.\n",
    "        https://github.com/hsahovic/poke-env/issues/484\n",
    "    \"\"\"\n",
    "\n",
    "    def calc_reward(self, last_battle, current_battle) -> float:\n",
    "        return self.reward_computing_helper(\n",
    "            current_battle, fainted_value=2.0, hp_value=1.0, victory_value=30.0\n",
    "        )\n",
    "\n",
    "    def embed_battle(self, battle: AbstractBattle) -> np.ndarray:\n",
    "        # -1 indicates that the move does not have a base power\n",
    "        # or is not available\n",
    "        moves_base_power = -np.ones(4)\n",
    "        moves_dmg_multiplier = np.ones(4)\n",
    "        for i, move in enumerate(battle.available_moves):\n",
    "            # print(move)\n",
    "            moves_base_power[i] = (\n",
    "                move.base_power / 100\n",
    "            )  # Simple rescaling to facilitate learning\n",
    "            if move.type:\n",
    "                moves_dmg_multiplier[i] = battle.opponent_active_pokemon.damage_multiplier(move)\n",
    "\n",
    "        # We count how many pokemons have fainted in each team\n",
    "        fainted_mon_team = len([mon for mon in battle.team.values() if mon.fainted]) / 6\n",
    "        fainted_mon_opponent = (\n",
    "            len([mon for mon in battle.opponent_team.values() if mon.fainted]) / 6\n",
    "        )\n",
    "\n",
    "        # Final vector with 10 components\n",
    "        final_vector = np.concatenate(\n",
    "            [\n",
    "                moves_base_power,\n",
    "                moves_dmg_multiplier,\n",
    "                [fainted_mon_team, fainted_mon_opponent],\n",
    "            ]\n",
    "        )\n",
    "        return np.float32(final_vector)\n",
    "\n",
    "    def describe_embedding(self) -> Space:\n",
    "        low = [-1, -1, -1, -1, 0, 0, 0, 0, 0, 0]\n",
    "        high = [3, 3, 3, 3, 4, 4, 4, 4, 1, 1]\n",
    "        return Box(\n",
    "            np.array(low, dtype=np.float32),\n",
    "            np.array(high, dtype=np.float32),\n",
    "            dtype=np.float32,\n",
    "        )\n",
    "    "
   ]
  },
  {
   "cell_type": "code",
   "execution_count": 10,
   "id": "c00b0eaa-24bd-4825-acf8-4265d9d6fdaf",
   "metadata": {},
   "outputs": [],
   "source": [
    "opponent = MaxDamagePlayer(battle_format=battle_format)"
   ]
  },
  {
   "cell_type": "code",
   "execution_count": 11,
   "id": "f220637f-1f70-4739-8c3e-91325fc0bfe3",
   "metadata": {},
   "outputs": [],
   "source": [
    "simple_env = SimpleRLEnv(\n",
    "        battle_format=battle_format,\n",
    "        opponent=opponent,\n",
    "        start_challenging=True,\n",
    "    )"
   ]
  },
  {
   "cell_type": "code",
   "execution_count": 80,
   "id": "6e29b265-d835-4948-be29-cb6c2005e37e",
   "metadata": {},
   "outputs": [
    {
     "data": {
      "text/plain": [
       "11"
      ]
     },
     "execution_count": 80,
     "metadata": {},
     "output_type": "execute_result"
    }
   ],
   "source": [
    "simple_env.action_space.sample()"
   ]
  },
  {
   "cell_type": "code",
   "execution_count": 35,
   "id": "0bee0896-2a7d-4cc8-8d72-64e026880ebe",
   "metadata": {},
   "outputs": [
    {
     "name": "stdout",
     "output_type": "stream",
     "text": [
      "tensor([[18]])\n"
     ]
    }
   ],
   "source": [
    "action = torch.tensor([[simple_env.action_space.sample()]], device=device, dtype=torch.long)\n",
    "print(action)"
   ]
  },
  {
   "cell_type": "code",
   "execution_count": 36,
   "id": "20fa7e3e-3735-463c-a195-a87c85a5fbc7",
   "metadata": {},
   "outputs": [
    {
     "data": {
      "text/plain": [
       "18"
      ]
     },
     "execution_count": 36,
     "metadata": {},
     "output_type": "execute_result"
    }
   ],
   "source": [
    "action.item()"
   ]
  },
  {
   "cell_type": "code",
   "execution_count": 37,
   "id": "667e81ca-5d81-4dcb-a25f-e70523167605",
   "metadata": {},
   "outputs": [],
   "source": [
    "observation, reward, terminated, truncated, _ = simple_env.step(action.item())"
   ]
  },
  {
   "cell_type": "code",
   "execution_count": 38,
   "id": "4aa22cc4-b5e2-47b0-a9d4-558ba1cde777",
   "metadata": {},
   "outputs": [
    {
     "data": {
      "text/plain": [
       "array([1.1, 0.9, 1. , 0. , 1. , 0.5, 2. , 0.5, 0. , 0. ], dtype=float32)"
      ]
     },
     "execution_count": 38,
     "metadata": {},
     "output_type": "execute_result"
    }
   ],
   "source": [
    "observation"
   ]
  },
  {
   "cell_type": "code",
   "execution_count": 39,
   "id": "8f62c487-60a3-4df3-aeae-5411d76a5eb2",
   "metadata": {},
   "outputs": [
    {
     "data": {
      "text/plain": [
       "-0.375"
      ]
     },
     "execution_count": 39,
     "metadata": {},
     "output_type": "execute_result"
    }
   ],
   "source": [
    "reward"
   ]
  },
  {
   "cell_type": "code",
   "execution_count": 40,
   "id": "143a8c8a-bf3a-4af7-9c68-34450907a927",
   "metadata": {},
   "outputs": [
    {
     "data": {
      "text/plain": [
       "False"
      ]
     },
     "execution_count": 40,
     "metadata": {},
     "output_type": "execute_result"
    }
   ],
   "source": [
    "terminated"
   ]
  },
  {
   "cell_type": "code",
   "execution_count": 41,
   "id": "e00cdea6-ac14-446a-8d65-c83a529a389b",
   "metadata": {},
   "outputs": [
    {
     "data": {
      "text/plain": [
       "False"
      ]
     },
     "execution_count": 41,
     "metadata": {},
     "output_type": "execute_result"
    }
   ],
   "source": [
    "truncated"
   ]
  },
  {
   "cell_type": "code",
   "execution_count": 42,
   "id": "ad7cacfa-cd05-4ba1-b794-ef68abdd3d53",
   "metadata": {},
   "outputs": [],
   "source": [
    "# step thru with random actions\n",
    "def step():\n",
    "    simple_env.action_space.sample()\n",
    "    action = torch.tensor([[simple_env.action_space.sample()]], device=device, dtype=torch.long)\n",
    "    observation, reward, terminated, truncated, _ = simple_env.step(action.item())\n",
    "    print(reward)"
   ]
  },
  {
   "cell_type": "code",
   "execution_count": 78,
   "id": "8e285146-fe60-4313-aab3-5c55ff5f0568",
   "metadata": {},
   "outputs": [
    {
     "ename": "RuntimeError",
     "evalue": "Battle is already finished, call reset",
     "output_type": "error",
     "traceback": [
      "\u001b[0;31m---------------------------------------------------------------------------\u001b[0m",
      "\u001b[0;31mRuntimeError\u001b[0m                              Traceback (most recent call last)",
      "Cell \u001b[0;32mIn[78], line 1\u001b[0m\n\u001b[0;32m----> 1\u001b[0m \u001b[43mstep\u001b[49m\u001b[43m(\u001b[49m\u001b[43m)\u001b[49m\n",
      "Cell \u001b[0;32mIn[42], line 5\u001b[0m, in \u001b[0;36mstep\u001b[0;34m()\u001b[0m\n\u001b[1;32m      3\u001b[0m simple_env\u001b[38;5;241m.\u001b[39maction_space\u001b[38;5;241m.\u001b[39msample()\n\u001b[1;32m      4\u001b[0m action \u001b[38;5;241m=\u001b[39m torch\u001b[38;5;241m.\u001b[39mtensor([[simple_env\u001b[38;5;241m.\u001b[39maction_space\u001b[38;5;241m.\u001b[39msample()]], device\u001b[38;5;241m=\u001b[39mdevice, dtype\u001b[38;5;241m=\u001b[39mtorch\u001b[38;5;241m.\u001b[39mlong)\n\u001b[0;32m----> 5\u001b[0m observation, reward, terminated, truncated, _ \u001b[38;5;241m=\u001b[39m \u001b[43msimple_env\u001b[49m\u001b[38;5;241;43m.\u001b[39;49m\u001b[43mstep\u001b[49m\u001b[43m(\u001b[49m\u001b[43maction\u001b[49m\u001b[38;5;241;43m.\u001b[39;49m\u001b[43mitem\u001b[49m\u001b[43m(\u001b[49m\u001b[43m)\u001b[49m\u001b[43m)\u001b[49m\n\u001b[1;32m      6\u001b[0m \u001b[38;5;28mprint\u001b[39m(reward)\n",
      "File \u001b[0;32m~/anaconda3/envs/py3115/lib/python3.11/site-packages/poke_env/player/openai_api.py:361\u001b[0m, in \u001b[0;36mOpenAIGymEnv.step\u001b[0;34m(self, action)\u001b[0m\n\u001b[1;32m    359\u001b[0m     \u001b[38;5;28;01mreturn\u001b[39;00m obs, \u001b[38;5;241m0.0\u001b[39m, \u001b[38;5;28;01mFalse\u001b[39;00m, \u001b[38;5;28;01mFalse\u001b[39;00m, info\n\u001b[1;32m    360\u001b[0m \u001b[38;5;28;01mif\u001b[39;00m \u001b[38;5;28mself\u001b[39m\u001b[38;5;241m.\u001b[39mcurrent_battle\u001b[38;5;241m.\u001b[39mfinished:\n\u001b[0;32m--> 361\u001b[0m     \u001b[38;5;28;01mraise\u001b[39;00m \u001b[38;5;167;01mRuntimeError\u001b[39;00m(\u001b[38;5;124m\"\u001b[39m\u001b[38;5;124mBattle is already finished, call reset\u001b[39m\u001b[38;5;124m\"\u001b[39m)\n\u001b[1;32m    362\u001b[0m battle \u001b[38;5;241m=\u001b[39m copy\u001b[38;5;241m.\u001b[39mcopy(\u001b[38;5;28mself\u001b[39m\u001b[38;5;241m.\u001b[39mcurrent_battle)\n\u001b[1;32m    363\u001b[0m battle\u001b[38;5;241m.\u001b[39mlogger \u001b[38;5;241m=\u001b[39m \u001b[38;5;28;01mNone\u001b[39;00m\n",
      "\u001b[0;31mRuntimeError\u001b[0m: Battle is already finished, call reset"
     ]
    }
   ],
   "source": [
    "step()"
   ]
  },
  {
   "cell_type": "code",
   "execution_count": 81,
   "id": "aa84f3d2-ec87-474f-9526-f67a9ffae1c6",
   "metadata": {},
   "outputs": [
    {
     "data": {
      "text/plain": [
       "(array([1.3 , 0.75, 0.  , 0.  , 0.25, 0.5 , 0.25, 0.5 , 0.  , 0.  ],\n",
       "       dtype=float32),\n",
       " {})"
      ]
     },
     "execution_count": 81,
     "metadata": {},
     "output_type": "execute_result"
    }
   ],
   "source": [
    "simple_env.reset()"
   ]
  },
  {
   "cell_type": "code",
   "execution_count": 82,
   "id": "4a0ae63a-9e37-4270-b3fe-5764c27c4aa2",
   "metadata": {},
   "outputs": [
    {
     "name": "stdout",
     "output_type": "stream",
     "text": [
      "-0.1215708812260532\n"
     ]
    }
   ],
   "source": [
    "step()"
   ]
  },
  {
   "cell_type": "code",
   "execution_count": null,
   "id": "8f245422-aef4-4ed1-b4f8-d84db40a1f5a",
   "metadata": {},
   "outputs": [],
   "source": []
  }
 ],
 "metadata": {
  "kernelspec": {
   "display_name": "Python 3 (ipykernel)",
   "language": "python",
   "name": "python3"
  },
  "language_info": {
   "codemirror_mode": {
    "name": "ipython",
    "version": 3
   },
   "file_extension": ".py",
   "mimetype": "text/x-python",
   "name": "python",
   "nbconvert_exporter": "python",
   "pygments_lexer": "ipython3",
   "version": "3.11.5"
  }
 },
 "nbformat": 4,
 "nbformat_minor": 5
}
