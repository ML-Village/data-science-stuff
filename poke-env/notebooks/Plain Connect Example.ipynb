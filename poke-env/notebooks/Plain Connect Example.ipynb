{
 "cells": [
  {
   "cell_type": "code",
   "execution_count": 1,
   "id": "e48fa0d2",
   "metadata": {},
   "outputs": [],
   "source": [
    "import asyncio\n",
    "\n",
    "from poke_env import AccountConfiguration, LocalhostServerConfiguration\n",
    "from poke_env.player import RandomPlayer"
   ]
  },
  {
   "cell_type": "code",
   "execution_count": 2,
   "id": "1a01473c",
   "metadata": {},
   "outputs": [],
   "source": [
    "async def main():\n",
    "    # We create a random player\n",
    "    player = RandomPlayer(\n",
    "        battle_format=\"gen1randombattle\",\n",
    "        account_configuration=AccountConfiguration(\"bot_username\", None),\n",
    "        server_configuration=LocalhostServerConfiguration,\n",
    "    )\n",
    "\n",
    "    # Sending challenges to 'your_username'\n",
    "    await player.send_challenges(\"0xhatsume\", n_challenges=1)\n",
    "\n",
    "    # Accepting one challenge from any user\n",
    "    # await player.accept_challenges(None, 1)\n",
    "\n",
    "    # Accepting three challenges from 'your_username'\n",
    "    # await player.accept_challenges('your_username', 3)\n",
    "\n",
    "    # Playing 5 games on the ladder\n",
    "    # await player.ladder(5)\n",
    "\n",
    "    # Print the rating of the player and its opponent after each battle\n",
    "    for battle in player.battles.values():\n",
    "        print(battle.rating, battle.opponent_rating)"
   ]
  },
  {
   "cell_type": "code",
   "execution_count": 3,
   "id": "7d000111-48d4-4580-a7f0-601378462565",
   "metadata": {},
   "outputs": [
    {
     "data": {
      "text/plain": [
       "<Task pending name='Task-5' coro=<main() running at /var/folders/n1/bjyp0g356v127j27bns8y08h0000gq/T/ipykernel_69182/4236768869.py:1>>"
      ]
     },
     "execution_count": 3,
     "metadata": {},
     "output_type": "execute_result"
    },
    {
     "name": "stdout",
     "output_type": "stream",
     "text": [
      "None None\n"
     ]
    }
   ],
   "source": [
    "asyncio.create_task(main())"
   ]
  },
  {
   "cell_type": "code",
   "execution_count": null,
   "id": "a3910ffc-b6b8-4d80-85e5-8d693abc7627",
   "metadata": {},
   "outputs": [],
   "source": []
  }
 ],
 "metadata": {
  "kernelspec": {
   "display_name": "Python 3 (ipykernel)",
   "language": "python",
   "name": "python3"
  },
  "language_info": {
   "codemirror_mode": {
    "name": "ipython",
    "version": 3
   },
   "file_extension": ".py",
   "mimetype": "text/x-python",
   "name": "python",
   "nbconvert_exporter": "python",
   "pygments_lexer": "ipython3",
   "version": "3.11.5"
  }
 },
 "nbformat": 4,
 "nbformat_minor": 5
}
