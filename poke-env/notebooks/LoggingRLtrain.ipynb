{
 "cells": [
  {
   "cell_type": "code",
   "execution_count": 1,
   "id": "41241be2-f39b-4ee1-9ebf-50cea4e18cce",
   "metadata": {},
   "outputs": [],
   "source": [
    "import asyncio"
   ]
  },
  {
   "cell_type": "code",
   "execution_count": 2,
   "id": "8b56c4d9-1a7b-413c-94a6-a3ac5683661b",
   "metadata": {},
   "outputs": [],
   "source": [
    "import numpy as np\n",
    "import torch"
   ]
  },
  {
   "cell_type": "code",
   "execution_count": 3,
   "id": "3f8ea400-12b2-4c5c-bd3c-34731d6aa413",
   "metadata": {},
   "outputs": [],
   "source": [
    "from gym.spaces import Space, Box"
   ]
  },
  {
   "cell_type": "code",
   "execution_count": 4,
   "id": "ed158b42-953d-4778-955c-380c37bf18ec",
   "metadata": {},
   "outputs": [],
   "source": [
    "from poke_env import AccountConfiguration\n",
    "from poke_env.environment import AbstractBattle\n",
    "from poke_env.player import Player\n",
    "#from poke_env.player import Gen8EnvSinglePlayer"
   ]
  },
  {
   "cell_type": "code",
   "execution_count": 5,
   "id": "3361d5bc-e10b-420c-9fc7-96fa7cab7c1a",
   "metadata": {},
   "outputs": [],
   "source": [
    "from custom.simple_rl import SimpleRLEnv"
   ]
  },
  {
   "cell_type": "code",
   "execution_count": 6,
   "id": "a7694aca-57e6-4849-9261-cebb51432cc7",
   "metadata": {},
   "outputs": [],
   "source": [
    "battle_format = 'gen8randombattle'\n",
    "device = torch.device(\"cuda\" if torch.cuda.is_available() else \"cpu\")"
   ]
  },
  {
   "cell_type": "code",
   "execution_count": 7,
   "id": "83cb377a-b838-4e17-a8e3-2eb7e8245c61",
   "metadata": {},
   "outputs": [],
   "source": [
    "class MaxDamagePlayer(Player):\n",
    "    \"\"\" Adapted from poke-env documentation.\n",
    "\n",
    "    References:\n",
    "    [1] Creating a simple max damage player.\n",
    "        https://poke-env.readthedocs.io/en/stable/examples/max_damage_player.html\n",
    "    \"\"\"\n",
    "    \n",
    "    def choose_move(self, battle: AbstractBattle):\n",
    "        # If the player can attack, it will\n",
    "        if battle.available_moves:\n",
    "            # Finds the best move among available ones\n",
    "            best_move = max(battle.available_moves, key=lambda move: move.base_power)\n",
    "            return self.create_order(best_move)\n",
    "\n",
    "        # If no attack is available, a random switch will be made\n",
    "        else:\n",
    "            return self.choose_random_move(battle)"
   ]
  },
  {
   "cell_type": "code",
   "execution_count": 8,
   "id": "c00b0eaa-24bd-4825-acf8-4265d9d6fdaf",
   "metadata": {},
   "outputs": [],
   "source": [
    "opponent = MaxDamagePlayer(battle_format=battle_format)"
   ]
  },
  {
   "cell_type": "code",
   "execution_count": 9,
   "id": "f220637f-1f70-4739-8c3e-91325fc0bfe3",
   "metadata": {},
   "outputs": [
    {
     "name": "stdout",
     "output_type": "stream",
     "text": [
      "Turn:  1 putting observations in...\n",
      "Turn:  1 obs put in.\n",
      "Turn:  1 getting 1 action out to move...\n",
      "Turn:  1 got an action out 9\n",
      "Turn:  1 putting observations in...\n",
      "Turn:  1 obs put in.\n",
      "Turn:  1 getting 1 action out to move...\n",
      "Turn:  1 got an action out 5\n",
      "Turn:  2 putting observations in...\n",
      "Turn:  2 obs put in.\n",
      "Turn:  2 getting 1 action out to move...\n",
      "Turn:  2 got an action out 13\n",
      "Turn:  3 putting observations in...\n",
      "Turn:  3 obs put in.\n",
      "Turn:  3 getting 1 action out to move...\n",
      "Turn:  3 got an action out 18\n",
      "Turn:  3 putting observations in...\n",
      "Turn:  3 obs put in.\n",
      "Turn:  3 getting 1 action out to move...\n"
     ]
    }
   ],
   "source": [
    "simple_env = SimpleRLEnv(\n",
    "        battle_format=battle_format,\n",
    "        opponent=opponent,\n",
    "        start_challenging=True,\n",
    "        account_configuration=AccountConfiguration(\"customTrainbot\", None),\n",
    "    )"
   ]
  },
  {
   "cell_type": "code",
   "execution_count": 10,
   "id": "ad7cacfa-cd05-4ba1-b794-ef68abdd3d53",
   "metadata": {},
   "outputs": [],
   "source": [
    "# step thru with random actions\n",
    "def step():\n",
    "    simple_env.action_space.sample()\n",
    "    action = torch.tensor([[simple_env.action_space.sample()]], device=device, dtype=torch.long)\n",
    "    observation, reward, terminated, truncated, _ = simple_env.step(action.item())\n",
    "    print(reward)"
   ]
  },
  {
   "cell_type": "code",
   "execution_count": 15,
   "id": "8e285146-fe60-4313-aab3-5c55ff5f0568",
   "metadata": {},
   "outputs": [
    {
     "name": "stdout",
     "output_type": "stream",
     "text": [
      "TRAINER: putting action in... For turn 3\n",
      "TRAINER: action put in. For turn 3\n",
      "TRAINER: getting observation out... For turn 3\n",
      "TRAINER: observation got out. For turn 3\n",
      "TRAINER: observation tracker is at:  3\n",
      "-2.2851711026615966\n"
     ]
    }
   ],
   "source": [
    "step()"
   ]
  },
  {
   "cell_type": "code",
   "execution_count": 14,
   "id": "e176ef9b-5e52-45a2-884e-903485b0c4d0",
   "metadata": {},
   "outputs": [],
   "source": [
    "# Stop Training (on-going matches will forfiet)\n",
    "simple_env.close()"
   ]
  },
  {
   "cell_type": "code",
   "execution_count": null,
   "id": "b95fb546-ba5c-428e-b033-497ba96ae6ad",
   "metadata": {},
   "outputs": [],
   "source": []
  }
 ],
 "metadata": {
  "kernelspec": {
   "display_name": "Python 3 (ipykernel)",
   "language": "python",
   "name": "python3"
  },
  "language_info": {
   "codemirror_mode": {
    "name": "ipython",
    "version": 3
   },
   "file_extension": ".py",
   "mimetype": "text/x-python",
   "name": "python",
   "nbconvert_exporter": "python",
   "pygments_lexer": "ipython3",
   "version": "3.11.5"
  }
 },
 "nbformat": 4,
 "nbformat_minor": 5
}
